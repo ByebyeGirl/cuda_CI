{
 "cells": [
  {
   "cell_type": "code",
   "execution_count": null,
   "id": "0283486b",
   "metadata": {},
   "outputs": [],
   "source": [
    "!pip uninstall -y scipy"
   ]
  },
  {
   "cell_type": "code",
   "execution_count": 6,
   "id": "619ea787",
   "metadata": {},
   "outputs": [
    {
     "name": "stdout",
     "output_type": "stream",
     "text": [
      "\u001b[33mWARNING: The directory '/home/uework/.cache/pip' or its parent directory is not owned or is not writable by the current user. The cache has been disabled. Check the permissions and owner of that directory. If executing pip with sudo, you should use sudo's -H flag.\u001b[0m\n",
      "Looking in indexes: http://172.19.0.2:8888/simple\n",
      "\u001b[33mWARNING: Retrying (Retry(total=4, connect=None, read=None, redirect=None, status=None)) after connection broken by 'NewConnectionError('<pip._vendor.urllib3.connection.HTTPConnection object at 0x7f5ba15ec040>: Failed to establish a new connection: [Errno 111] Connection refused')': /simple/accelerate/\u001b[0m\n",
      "\u001b[33mWARNING: Retrying (Retry(total=3, connect=None, read=None, redirect=None, status=None)) after connection broken by 'NewConnectionError('<pip._vendor.urllib3.connection.HTTPConnection object at 0x7f5ba164d340>: Failed to establish a new connection: [Errno 111] Connection refused')': /simple/accelerate/\u001b[0m\n",
      "\u001b[33mWARNING: Retrying (Retry(total=2, connect=None, read=None, redirect=None, status=None)) after connection broken by 'NewConnectionError('<pip._vendor.urllib3.connection.HTTPConnection object at 0x7f5ba164d040>: Failed to establish a new connection: [Errno 111] Connection refused')': /simple/accelerate/\u001b[0m\n",
      "\u001b[33mWARNING: Retrying (Retry(total=1, connect=None, read=None, redirect=None, status=None)) after connection broken by 'NewConnectionError('<pip._vendor.urllib3.connection.HTTPConnection object at 0x7f5ba164ae80>: Failed to establish a new connection: [Errno 111] Connection refused')': /simple/accelerate/\u001b[0m\n",
      "\u001b[33mWARNING: Retrying (Retry(total=0, connect=None, read=None, redirect=None, status=None)) after connection broken by 'NewConnectionError('<pip._vendor.urllib3.connection.HTTPConnection object at 0x7f5ba164aca0>: Failed to establish a new connection: [Errno 111] Connection refused')': /simple/accelerate/\u001b[0m\n",
      "\u001b[31mERROR: Could not find a version that satisfies the requirement accelerate (from versions: none)\u001b[0m\n",
      "\u001b[31mERROR: No matching distribution found for accelerate\u001b[0m\n"
     ]
    }
   ],
   "source": []
  },
  {
   "cell_type": "code",
   "execution_count": null,
   "id": "62111d40",
   "metadata": {},
   "outputs": [],
   "source": []
  }
 ],
 "metadata": {
  "kernelspec": {
   "display_name": "Python 3 (ipykernel)",
   "language": "python",
   "name": "python3"
  },
  "language_info": {
   "codemirror_mode": {
    "name": "ipython",
    "version": 3
   },
   "file_extension": ".py",
   "mimetype": "text/x-python",
   "name": "python",
   "nbconvert_exporter": "python",
   "pygments_lexer": "ipython3",
   "version": "3.8.13"
  }
 },
 "nbformat": 4,
 "nbformat_minor": 5
}
